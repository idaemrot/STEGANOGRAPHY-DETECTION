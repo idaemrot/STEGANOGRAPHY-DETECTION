{
 "cells": [
  {
   "cell_type": "code",
   "execution_count": 108,
   "id": "47e5b368-67b6-4a7d-bc49-31e2e1ce352c",
   "metadata": {},
   "outputs": [],
   "source": [
    "from stegano import lsb\n",
    "from pydub import AudioSegment\n",
    "import cv2\n",
    "import os\n",
    "from tkinter import Tk, filedialog\n",
    "import numpy as np\n",
    "import matplotlib.pyplot as plt\n",
    "from pydub import AudioSegment\n",
    "import wave\n"
   ]
  },
  {
   "cell_type": "code",
   "execution_count": 77,
   "id": "260d5717-5d30-4a8a-a78c-df1cee9dee4d",
   "metadata": {},
   "outputs": [],
   "source": [
    "import cv2\n",
    "import numpy as np\n",
    "\n",
    "def detect_image_steganography(image_path):\n",
    "    try:\n",
    "        # Load the image\n",
    "        img = cv2.imread(image_path, cv2.IMREAD_COLOR)\n",
    "\n",
    "        # Convert image to grayscale\n",
    "        gray = cv2.cvtColor(img, cv2.COLOR_BGR2GRAY)\n",
    "\n",
    "        # Apply Discrete Cosine Transform (DCT) on the image\n",
    "        dct_img = cv2.dct(np.float32(gray))\n",
    "\n",
    "        # Extract the high-frequency coefficients (usually LSBs are stored here)\n",
    "        coeffs = dct_img.flatten()\n",
    "        coeffs = coeffs[1:]  # Exclude the DC component (constant component)\n",
    "\n",
    "        # Perform statistical analysis on the coefficients\n",
    "        mean = np.mean(coeffs)\n",
    "        std_dev = np.std(coeffs)\n",
    "\n",
    "        # Threshold for detection (adjust based on the expected hidden data)\n",
    "        threshold = 5.0  # Example threshold, adjust as needed\n",
    "\n",
    "        if std_dev > threshold:\n",
    "            print(f\"Steganography detected in {image_path}\")\n",
    "            print(f\"Mean: {mean}, Standard Deviation: {std_dev}\")\n",
    "        else:\n",
    "            print(f\"No steganography detected in {image_path}\")\n",
    "\n",
    "    except Exception as e:\n",
    "        print(f\"Error detecting steganography in {image_path}: {e}\")\n"
   ]
  },
  {
   "cell_type": "code",
   "execution_count": 97,
   "id": "8865bfc9-73ed-466d-a589-721aef655ff4",
   "metadata": {
    "scrolled": true
   },
   "outputs": [
    {
     "name": "stdout",
     "output_type": "stream",
     "text": [
      "Potential steganography detected in C:\\Users\\Admin\\Desktop\\gpcssi 24\\stano\\cover_audio.wav\n",
      "Sample width: 2 bytes, Channels: 1, Frame rate: 22050 Hz\n"
     ]
    }
   ],
   "source": [
    "def detect_audio_steganography(audio_path):\n",
    "    try:\n",
    "        # Load audio file\n",
    "        audio = AudioSegment.from_file(audio_path)\n",
    "\n",
    "        # Check for anomalies in audio properties\n",
    "        sample_width = audio.sample_width  # bytes per sample\n",
    "        channels = audio.channels  # number of channels (1 for mono, 2 for stereo)\n",
    "        frame_rate = audio.frame_rate  # frame rate (samples per second)\n",
    "\n",
    "        # Example: Detect steganography based on audio properties\n",
    "        if sample_width != 2 or channels != 1 or frame_rate != 44100:\n",
    "            print(f\"Potential steganography detected in {audio_path}\")\n",
    "            print(f\"Sample width: {sample_width} bytes, Channels: {channels}, Frame rate: {frame_rate} Hz\")\n",
    "        else:\n",
    "            print(f\"No steganography detected in {audio_path}\")\n",
    "\n",
    "        # Additional checks can include statistical analysis of audio data\n",
    "        # Example: Analyze audio data for hidden messages\n",
    "\n",
    "    except wave.Error as e:\n",
    "        print(f\"Error reading audio file {audio_path}: {e}\")\n",
    "    except Exception as e:\n",
    "        print(f\"Error detecting steganography in {audio_path}: {e}\")\n",
    "\n",
    "# Example usage:\n",
    "audio_path = r\"C:\\Users\\Admin\\Desktop\\gpcssi 24\\stano\\cover_audio.wav\"\n",
    "detect_audio_steganography(audio_path)\n",
    "\n"
   ]
  },
  {
   "cell_type": "code",
   "execution_count": 100,
   "id": "95558ffa-7228-433c-bc77-0d27bfc0721a",
   "metadata": {},
   "outputs": [
    {
     "name": "stdout",
     "output_type": "stream",
     "text": [
      "Steganography detected in C:\\Users\\Admin\\Desktop\\gpcssi 24\\stano\\cover_text.txt\n",
      "File content analysis:\n",
      " - Total characters: 37817\n",
      " - Preview (first 200 characters): Steganography is the practice of concealing a secret message within another, ordinary, message.The messages can be images, text, video, audio etc. In modern steganography, the goal is to covertly comm...\n"
     ]
    }
   ],
   "source": [
    "def detect_text_steganography(text_path):\n",
    "    try:\n",
    "        with open(text_path, 'r', encoding='utf-8') as file:\n",
    "            text = file.read()\n",
    "\n",
    "            # Example detection logic: Check for hidden messages based on length or patterns\n",
    "            if len(text) > 1000:\n",
    "                print(f\"Steganography detected in {text_path}\")\n",
    "                print(f\"File content analysis:\")\n",
    "                print(f\" - Total characters: {len(text)}\")\n",
    "                print(f\" - Preview (first 200 characters): {text[:200]}...\")\n",
    "            else:\n",
    "                print(f\"No steganography detected in {text_path}\")\n",
    "                print(f\"File content: {text}\")\n",
    "\n",
    "    except FileNotFoundError:\n",
    "        print(f\"Error: File {text_path} not found.\")\n",
    "    except Exception as e:\n",
    "        print(f\"Error detecting steganography in {text_path}: {e}\")\n",
    "\n",
    "\n",
    "\n",
    "# Example usage:\n",
    "text_path = r\"C:\\Users\\Admin\\Desktop\\gpcssi 24\\stano\\cover_text.txt\"\n",
    "detect_text_steganography(text_path)"
   ]
  },
  {
   "cell_type": "code",
   "execution_count": 104,
   "id": "a9e277c9-9285-4df8-9779-2d4c90bf4ea7",
   "metadata": {},
   "outputs": [
    {
     "name": "stdout",
     "output_type": "stream",
     "text": [
      "Steganography detected in frame 2 of C:\\Users\\Admin\\Desktop\\gpcssi 24\\stano\\cover_video.mp4\n",
      " - Anomaly score: 146178\n",
      " - Standard deviation (DCT): 136.48\n"
     ]
    }
   ],
   "source": [
    "\n",
    "def detect_video_steganography(video_path):\n",
    "    try:\n",
    "        # Open the video file\n",
    "        cap = cv2.VideoCapture(video_path)\n",
    "        if not cap.isOpened():\n",
    "            raise FileNotFoundError(f\"Error: Unable to open video file {video_path}\")\n",
    "\n",
    "        frame_count = int(cap.get(cv2.CAP_PROP_FRAME_COUNT))\n",
    "\n",
    "        stegano_detected = False\n",
    "\n",
    "        # Initialize variables for temporal analysis\n",
    "        prev_frame = None\n",
    "        anomaly_threshold = 50000  # Adjust as needed based on video quality and content\n",
    "\n",
    "        # Loop through each frame\n",
    "        for i in range(frame_count):\n",
    "            # Extract frame\n",
    "            ret, frame = cap.read()\n",
    "            if not ret:\n",
    "                break\n",
    "\n",
    "            # Convert frame to grayscale for analysis\n",
    "            gray_frame = cv2.cvtColor(frame, cv2.COLOR_BGR2GRAY)\n",
    "\n",
    "            # Perform temporal analysis (frame differencing with previous frame)\n",
    "            if prev_frame is not None:\n",
    "                diff = cv2.absdiff(prev_frame, gray_frame)\n",
    "                anomaly_score = np.sum(diff)\n",
    "\n",
    "                # Spatial analysis (DCT method)\n",
    "                dct_frame = cv2.dct(np.float32(gray_frame.flatten()))\n",
    "                std_dev = np.std(dct_frame)\n",
    "\n",
    "                # Thresholds for detection (adjust based on expected hidden data)\n",
    "                if anomaly_score > anomaly_threshold and std_dev > 5.0:\n",
    "                    stegano_detected = True\n",
    "                    print(f\"Steganography detected in frame {i+1} of {video_path}\")\n",
    "                    print(f\" - Anomaly score: {anomaly_score}\")\n",
    "                    print(f\" - Standard deviation (DCT): {std_dev:.2f}\")\n",
    "                    break\n",
    "\n",
    "            # Update previous frame with current frame for next iteration\n",
    "            prev_frame = gray_frame\n",
    "\n",
    "        if not stegano_detected:\n",
    "            print(f\"No steganography detected in {video_path}\")\n",
    "\n",
    "        cap.release()\n",
    "\n",
    "    except FileNotFoundError as e:\n",
    "        print(f\"Error: {e}\")\n",
    "    except Exception as e:\n",
    "        print(f\"Error detecting steganography in {video_path}: {e}\")\n",
    "\n",
    "# Example usage:\n",
    "video_path = r\"C:\\Users\\Admin\\Desktop\\gpcssi 24\\stano\\cover_video.mp4\"\n",
    "detect_video_steganography(video_path)\n"
   ]
  },
  {
   "cell_type": "code",
   "execution_count": 105,
   "id": "d52b4612-1a9b-40cd-bfe6-08b5be58c274",
   "metadata": {},
   "outputs": [],
   "source": [
    "def upload_file_dialog():\n",
    "    print(\"Please enter the file path:\")\n",
    "    file_path = input().strip()  # Get user input and remove any surrounding whitespace\n",
    "    return file_path\n"
   ]
  },
  {
   "cell_type": "code",
   "execution_count": 106,
   "id": "d3284780-54a4-43ff-bfd6-050786847697",
   "metadata": {},
   "outputs": [],
   "source": [
    "def menu():\n",
    "    while True:\n",
    "        print(\"\\n### Steganography Detection Menu ###\")\n",
    "        print(\"1. Detect Image Steganography\")\n",
    "        print(\"2. Detect Audio Steganography\")\n",
    "        print(\"3. Detect Text Steganography\")\n",
    "        print(\"4. Detect Video Steganography\")\n",
    "        print(\"5. Exit\")\n",
    "\n",
    "        choice = input(\"Enter your choice (1-5): \").strip()\n",
    "\n",
    "        if choice == '1':\n",
    "           image_path = r\"C:\\Users\\Admin\\Desktop\\gpcssi 24\\stano\\encoded_image.png\"\n",
    "           detect_image_steganography(image_path)\n",
    "        elif choice == '2':\n",
    "            audio_path = r\"C:\\Users\\Admin\\Desktop\\gpcssi 24\\stano\\cover_audio.wav\"\n",
    "            detect_audio_steganography(audio_path)\n",
    "        elif choice == '3':\n",
    "            text_path = r\"C:\\Users\\Admin\\Desktop\\gpcssi 24\\stano\\cover_text.txt\"\n",
    "            detect_text_steganography(text_path)\n",
    "        elif choice == '4':\n",
    "            video_path = r\"C:\\Users\\Admin\\Desktop\\gpcssi 24\\stano\\cover_video.mp4\"\n",
    "            detect_video_steganography(video_path)\n",
    "        elif choice == '5':\n",
    "            print(\"Exiting...\")\n",
    "            break\n",
    "        else:\n",
    "            print(\"Invalid choice. Please enter a number from 1 to 5.\")\n"
   ]
  },
  {
   "cell_type": "code",
   "execution_count": 107,
   "id": "9eba361d-158b-426c-b768-8d57c18b9787",
   "metadata": {},
   "outputs": [
    {
     "name": "stdout",
     "output_type": "stream",
     "text": [
      "\n",
      "### Steganography Detection Menu ###\n",
      "1. Detect Image Steganography\n",
      "2. Detect Audio Steganography\n",
      "3. Detect Text Steganography\n",
      "4. Detect Video Steganography\n",
      "5. Exit\n"
     ]
    },
    {
     "name": "stdin",
     "output_type": "stream",
     "text": [
      "Enter your choice (1-5):  1\n"
     ]
    },
    {
     "name": "stdout",
     "output_type": "stream",
     "text": [
      "Steganography detected in C:\\Users\\Admin\\Desktop\\gpcssi 24\\stano\\encoded_image.png\n",
      "Mean: -0.02614470198750496, Standard Deviation: 50.036216735839844\n",
      "\n",
      "### Steganography Detection Menu ###\n",
      "1. Detect Image Steganography\n",
      "2. Detect Audio Steganography\n",
      "3. Detect Text Steganography\n",
      "4. Detect Video Steganography\n",
      "5. Exit\n"
     ]
    },
    {
     "name": "stdin",
     "output_type": "stream",
     "text": [
      "Enter your choice (1-5):  2\n"
     ]
    },
    {
     "name": "stdout",
     "output_type": "stream",
     "text": [
      "Potential steganography detected in C:\\Users\\Admin\\Desktop\\gpcssi 24\\stano\\cover_audio.wav\n",
      "Sample width: 2 bytes, Channels: 1, Frame rate: 22050 Hz\n",
      "\n",
      "### Steganography Detection Menu ###\n",
      "1. Detect Image Steganography\n",
      "2. Detect Audio Steganography\n",
      "3. Detect Text Steganography\n",
      "4. Detect Video Steganography\n",
      "5. Exit\n"
     ]
    },
    {
     "name": "stdin",
     "output_type": "stream",
     "text": [
      "Enter your choice (1-5):  3\n"
     ]
    },
    {
     "name": "stdout",
     "output_type": "stream",
     "text": [
      "Steganography detected in C:\\Users\\Admin\\Desktop\\gpcssi 24\\stano\\cover_text.txt\n",
      "File content analysis:\n",
      " - Total characters: 37817\n",
      " - Preview (first 200 characters): Steganography is the practice of concealing a secret message within another, ordinary, message.The messages can be images, text, video, audio etc. In modern steganography, the goal is to covertly comm...\n",
      "\n",
      "### Steganography Detection Menu ###\n",
      "1. Detect Image Steganography\n",
      "2. Detect Audio Steganography\n",
      "3. Detect Text Steganography\n",
      "4. Detect Video Steganography\n",
      "5. Exit\n"
     ]
    },
    {
     "name": "stdin",
     "output_type": "stream",
     "text": [
      "Enter your choice (1-5):  4\n"
     ]
    },
    {
     "name": "stdout",
     "output_type": "stream",
     "text": [
      "Steganography detected in frame 2 of C:\\Users\\Admin\\Desktop\\gpcssi 24\\stano\\cover_video.mp4\n",
      " - Anomaly score: 146178\n",
      " - Standard deviation (DCT): 136.48\n",
      "\n",
      "### Steganography Detection Menu ###\n",
      "1. Detect Image Steganography\n",
      "2. Detect Audio Steganography\n",
      "3. Detect Text Steganography\n",
      "4. Detect Video Steganography\n",
      "5. Exit\n"
     ]
    },
    {
     "name": "stdin",
     "output_type": "stream",
     "text": [
      "Enter your choice (1-5):  5\n"
     ]
    },
    {
     "name": "stdout",
     "output_type": "stream",
     "text": [
      "Exiting...\n"
     ]
    }
   ],
   "source": [
    "\n",
    "if __name__ == \"__main__\":\n",
    "    menu() "
   ]
  },
  {
   "cell_type": "code",
   "execution_count": null,
   "id": "bd0e83e4-567e-4015-a0cd-9f99ab7d4d50",
   "metadata": {},
   "outputs": [],
   "source": []
  }
 ],
 "metadata": {
  "kernelspec": {
   "display_name": "Python 3 (ipykernel)",
   "language": "python",
   "name": "python3"
  },
  "language_info": {
   "codemirror_mode": {
    "name": "ipython",
    "version": 3
   },
   "file_extension": ".py",
   "mimetype": "text/x-python",
   "name": "python",
   "nbconvert_exporter": "python",
   "pygments_lexer": "ipython3",
   "version": "3.12.3"
  }
 },
 "nbformat": 4,
 "nbformat_minor": 5
}
